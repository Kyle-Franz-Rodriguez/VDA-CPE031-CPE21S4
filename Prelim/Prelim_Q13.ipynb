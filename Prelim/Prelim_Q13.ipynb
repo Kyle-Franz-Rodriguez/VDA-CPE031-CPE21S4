{
  "nbformat": 4,
  "nbformat_minor": 0,
  "metadata": {
    "colab": {
      "provenance": [],
      "authorship_tag": "ABX9TyOMbTbHkQYexPxSd6EVARbK",
      "include_colab_link": true
    },
    "kernelspec": {
      "name": "python3",
      "display_name": "Python 3"
    },
    "language_info": {
      "name": "python"
    }
  },
  "cells": [
    {
      "cell_type": "markdown",
      "metadata": {
        "id": "view-in-github",
        "colab_type": "text"
      },
      "source": [
        "<a href=\"https://colab.research.google.com/github/Kyle-Franz-Rodriguez/VDA-CPE031-CPE21S4/blob/main/Prelim/Prelim_Q13.ipynb\" target=\"_parent\"><img src=\"https://colab.research.google.com/assets/colab-badge.svg\" alt=\"Open In Colab\"/></a>"
      ]
    },
    {
      "cell_type": "code",
      "execution_count": 9,
      "metadata": {
        "colab": {
          "base_uri": "https://localhost:8080/"
        },
        "id": "fl0mwqaOELE3",
        "outputId": "1bed4000-064b-491b-dd48-32e64c557940"
      },
      "outputs": [
        {
          "output_type": "stream",
          "name": "stdout",
          "text": [
            "Normal:\n",
            "   Computer ID   Brand        Model    Processor  RAM (GB)  Storage (GB)  \\\n",
            "0            1    Dell       XPS 13     Intel i7        16           512   \n",
            "1            2      HP  Pavilion 15  AMD Ryzen 5         8           256   \n",
            "2            3   Apple  MacBook Pro     Apple M1        16          1024   \n",
            "3            4  Lenovo  ThinkPad X1     Intel i9        32           512   \n",
            "4            5    Asus   ZenBook 14     Intel i5        16           512   \n",
            "\n",
            "      Graphics Card  Price ($)  \n",
            "0     Intel Iris Xe       1200  \n",
            "1        AMD Radeon        800  \n",
            "2  Apple Integrated       2400  \n",
            "3   NVIDIA GTX 1650       1800  \n",
            "4      NVIDIA MX250       1000  \n",
            "\n",
            "Tabulated:\n",
            "+----+---------------+---------+-------------+-------------+------------+----------------+------------------+-------------+\n",
            "|    |   Computer ID | Brand   | Model       | Processor   |   RAM (GB) |   Storage (GB) | Graphics Card    |   Price ($) |\n",
            "|----+---------------+---------+-------------+-------------+------------+----------------+------------------+-------------|\n",
            "|  0 |             1 | Dell    | XPS 13      | Intel i7    |         16 |            512 | Intel Iris Xe    |        1200 |\n",
            "|  1 |             2 | HP      | Pavilion 15 | AMD Ryzen 5 |          8 |            256 | AMD Radeon       |         800 |\n",
            "|  2 |             3 | Apple   | MacBook Pro | Apple M1    |         16 |           1024 | Apple Integrated |        2400 |\n",
            "|  3 |             4 | Lenovo  | ThinkPad X1 | Intel i9    |         32 |            512 | NVIDIA GTX 1650  |        1800 |\n",
            "|  4 |             5 | Asus    | ZenBook 14  | Intel i5    |         16 |            512 | NVIDIA MX250     |        1000 |\n",
            "+----+---------------+---------+-------------+-------------+------------+----------------+------------------+-------------+\n"
          ]
        }
      ],
      "source": [
        "import pandas as pd\n",
        "from tabulate import tabulate\n",
        "from google.colab import files\n",
        "data = pd.read_csv('ComputerDataSheet.csv')\n",
        "print(\"Normal:\")\n",
        "print(data)\n",
        "print()\n",
        "print(\"Tabulated:\")\n",
        "print(tabulate(data, headers='keys', tablefmt='psql'))\n",
        "data.to_csv('PrelimExam.csv')"
      ]
    }
  ]
}