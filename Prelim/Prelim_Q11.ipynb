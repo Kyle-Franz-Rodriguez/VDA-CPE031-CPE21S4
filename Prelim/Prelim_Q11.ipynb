{
  "nbformat": 4,
  "nbformat_minor": 0,
  "metadata": {
    "colab": {
      "provenance": [],
      "authorship_tag": "ABX9TyOmBvJ50g7L8K6TTggAENTw",
      "include_colab_link": true
    },
    "kernelspec": {
      "name": "python3",
      "display_name": "Python 3"
    },
    "language_info": {
      "name": "python"
    }
  },
  "cells": [
    {
      "cell_type": "markdown",
      "metadata": {
        "id": "view-in-github",
        "colab_type": "text"
      },
      "source": [
        "<a href=\"https://colab.research.google.com/github/Kyle-Franz-Rodriguez/VDA-CPE031-CPE21S4/blob/main/Prelim/Prelim_Q11.ipynb\" target=\"_parent\"><img src=\"https://colab.research.google.com/assets/colab-badge.svg\" alt=\"Open In Colab\"/></a>"
      ]
    },
    {
      "cell_type": "markdown",
      "source": [
        "Prelim - Q11: write pandas to create data frame"
      ],
      "metadata": {
        "id": "U__IJeltAg_s"
      }
    },
    {
      "cell_type": "code",
      "execution_count": 2,
      "metadata": {
        "colab": {
          "base_uri": "https://localhost:8080/"
        },
        "id": "ET7jVum4AgWi",
        "outputId": "7b17e8ad-9908-4e49-e46f-fb76d16f58bf"
      },
      "outputs": [
        {
          "output_type": "stream",
          "name": "stdout",
          "text": [
            "    X   Y   Z\n",
            "0  78  84  86\n",
            "1  85  94  97\n",
            "2  96  89  96\n",
            "3  80  83  72\n",
            "4  80  86  83\n"
          ]
        }
      ],
      "source": [
        "import pandas as pd\n",
        "\n",
        "data = {'X': [78,85,96,80,80], 'Y': [84, 94, 89,83,86], 'Z': [86, 97, 96, 72, 83]}\n",
        "data_df = pd.DataFrame(data)\n",
        "print(data_df)"
      ]
    }
  ]
}