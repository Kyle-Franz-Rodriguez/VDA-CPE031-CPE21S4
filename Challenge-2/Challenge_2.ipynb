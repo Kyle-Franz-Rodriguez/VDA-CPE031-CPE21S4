{
  "nbformat": 4,
  "nbformat_minor": 0,
  "metadata": {
    "colab": {
      "provenance": [],
      "authorship_tag": "ABX9TyMqJK7fJ91wpX5/Bd0G65bu",
      "include_colab_link": true
    },
    "kernelspec": {
      "name": "python3",
      "display_name": "Python 3"
    },
    "language_info": {
      "name": "python"
    }
  },
  "cells": [
    {
      "cell_type": "markdown",
      "metadata": {
        "id": "view-in-github",
        "colab_type": "text"
      },
      "source": [
        "<a href=\"https://colab.research.google.com/github/Kyle-Franz-Rodriguez/VDA-CPE031-CPE21S4/blob/main/Challenge-2/Challenge_2.ipynb\" target=\"_parent\"><img src=\"https://colab.research.google.com/assets/colab-badge.svg\" alt=\"Open In Colab\"/></a>"
      ]
    },
    {
      "cell_type": "code",
      "execution_count": 1,
      "metadata": {
        "colab": {
          "base_uri": "https://localhost:8080/"
        },
        "id": "OnDaixT2MMUB",
        "outputId": "d4af99ac-94e5-4f52-9cdf-dc58d2462f20"
      },
      "outputs": [
        {
          "output_type": "stream",
          "name": "stdout",
          "text": [
            "Whole index:\n",
            "   0   1   2\n",
            "0  0   4   8\n",
            "1  1   5   9\n",
            "2  2   6  10\n",
            "3  5  10  15\n",
            "\n",
            "Deleted Index 0,1,3:\n",
            "   0  1   2\n",
            "2  2  6  10\n"
          ]
        }
      ],
      "source": [
        "# How are you going delete indices no 0,1,3 leaving only all items in index 2?\n",
        "import pandas as pd\n",
        "\n",
        "s1 = pd.Series([0,4,8])\n",
        "s2 = pd.Series([1,5,9])\n",
        "s3 = pd.Series([2,6,10])\n",
        "s4 = pd.Series([5,10,15])\n",
        "dframe = pd.DataFrame([s1,s2,s3,s4], index=[0,1,2,3], columns=[0,1,2])\n",
        "\n",
        "print(\"Whole index:\")\n",
        "print(dframe)\n",
        "\n",
        "#to remove column index 0, 1, and 3, I will use the drop funcion\n",
        "dframe_deleted=dframe.drop([0,1,3])\n",
        "\n",
        "print(\"\\nDeleted Index 0,1,3:\")\n",
        "print(dframe_deleted)"
      ]
    }
  ]
}