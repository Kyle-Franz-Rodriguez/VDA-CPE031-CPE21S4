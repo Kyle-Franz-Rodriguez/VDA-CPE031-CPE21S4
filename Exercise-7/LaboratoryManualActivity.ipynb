{
  "nbformat": 4,
  "nbformat_minor": 0,
  "metadata": {
    "colab": {
      "provenance": []
    },
    "kernelspec": {
      "name": "python3",
      "display_name": "Python 3"
    },
    "language_info": {
      "name": "python"
    }
  },
  "cells": [
    {
      "cell_type": "markdown",
      "source": [
        "# **1. Import CSV FIle**"
      ],
      "metadata": {
        "id": "Q4XfCiGFSGI9"
      }
    },
    {
      "cell_type": "code",
      "execution_count": 1,
      "metadata": {
        "colab": {
          "base_uri": "https://localhost:8080/",
          "height": 93
        },
        "id": "wK7hs-uCRfiD",
        "outputId": "eaab08ed-c528-4790-b54c-e72b17363ef9"
      },
      "outputs": [
        {
          "output_type": "display_data",
          "data": {
            "text/plain": [
              "<IPython.core.display.HTML object>"
            ],
            "text/html": [
              "\n",
              "     <input type=\"file\" id=\"files-d56820f9-de96-42a3-8d90-9a7b9bb23db4\" name=\"files[]\" multiple disabled\n",
              "        style=\"border:none\" />\n",
              "     <output id=\"result-d56820f9-de96-42a3-8d90-9a7b9bb23db4\">\n",
              "      Upload widget is only available when the cell has been executed in the\n",
              "      current browser session. Please rerun this cell to enable.\n",
              "      </output>\n",
              "      <script>// Copyright 2017 Google LLC\n",
              "//\n",
              "// Licensed under the Apache License, Version 2.0 (the \"License\");\n",
              "// you may not use this file except in compliance with the License.\n",
              "// You may obtain a copy of the License at\n",
              "//\n",
              "//      http://www.apache.org/licenses/LICENSE-2.0\n",
              "//\n",
              "// Unless required by applicable law or agreed to in writing, software\n",
              "// distributed under the License is distributed on an \"AS IS\" BASIS,\n",
              "// WITHOUT WARRANTIES OR CONDITIONS OF ANY KIND, either express or implied.\n",
              "// See the License for the specific language governing permissions and\n",
              "// limitations under the License.\n",
              "\n",
              "/**\n",
              " * @fileoverview Helpers for google.colab Python module.\n",
              " */\n",
              "(function(scope) {\n",
              "function span(text, styleAttributes = {}) {\n",
              "  const element = document.createElement('span');\n",
              "  element.textContent = text;\n",
              "  for (const key of Object.keys(styleAttributes)) {\n",
              "    element.style[key] = styleAttributes[key];\n",
              "  }\n",
              "  return element;\n",
              "}\n",
              "\n",
              "// Max number of bytes which will be uploaded at a time.\n",
              "const MAX_PAYLOAD_SIZE = 100 * 1024;\n",
              "\n",
              "function _uploadFiles(inputId, outputId) {\n",
              "  const steps = uploadFilesStep(inputId, outputId);\n",
              "  const outputElement = document.getElementById(outputId);\n",
              "  // Cache steps on the outputElement to make it available for the next call\n",
              "  // to uploadFilesContinue from Python.\n",
              "  outputElement.steps = steps;\n",
              "\n",
              "  return _uploadFilesContinue(outputId);\n",
              "}\n",
              "\n",
              "// This is roughly an async generator (not supported in the browser yet),\n",
              "// where there are multiple asynchronous steps and the Python side is going\n",
              "// to poll for completion of each step.\n",
              "// This uses a Promise to block the python side on completion of each step,\n",
              "// then passes the result of the previous step as the input to the next step.\n",
              "function _uploadFilesContinue(outputId) {\n",
              "  const outputElement = document.getElementById(outputId);\n",
              "  const steps = outputElement.steps;\n",
              "\n",
              "  const next = steps.next(outputElement.lastPromiseValue);\n",
              "  return Promise.resolve(next.value.promise).then((value) => {\n",
              "    // Cache the last promise value to make it available to the next\n",
              "    // step of the generator.\n",
              "    outputElement.lastPromiseValue = value;\n",
              "    return next.value.response;\n",
              "  });\n",
              "}\n",
              "\n",
              "/**\n",
              " * Generator function which is called between each async step of the upload\n",
              " * process.\n",
              " * @param {string} inputId Element ID of the input file picker element.\n",
              " * @param {string} outputId Element ID of the output display.\n",
              " * @return {!Iterable<!Object>} Iterable of next steps.\n",
              " */\n",
              "function* uploadFilesStep(inputId, outputId) {\n",
              "  const inputElement = document.getElementById(inputId);\n",
              "  inputElement.disabled = false;\n",
              "\n",
              "  const outputElement = document.getElementById(outputId);\n",
              "  outputElement.innerHTML = '';\n",
              "\n",
              "  const pickedPromise = new Promise((resolve) => {\n",
              "    inputElement.addEventListener('change', (e) => {\n",
              "      resolve(e.target.files);\n",
              "    });\n",
              "  });\n",
              "\n",
              "  const cancel = document.createElement('button');\n",
              "  inputElement.parentElement.appendChild(cancel);\n",
              "  cancel.textContent = 'Cancel upload';\n",
              "  const cancelPromise = new Promise((resolve) => {\n",
              "    cancel.onclick = () => {\n",
              "      resolve(null);\n",
              "    };\n",
              "  });\n",
              "\n",
              "  // Wait for the user to pick the files.\n",
              "  const files = yield {\n",
              "    promise: Promise.race([pickedPromise, cancelPromise]),\n",
              "    response: {\n",
              "      action: 'starting',\n",
              "    }\n",
              "  };\n",
              "\n",
              "  cancel.remove();\n",
              "\n",
              "  // Disable the input element since further picks are not allowed.\n",
              "  inputElement.disabled = true;\n",
              "\n",
              "  if (!files) {\n",
              "    return {\n",
              "      response: {\n",
              "        action: 'complete',\n",
              "      }\n",
              "    };\n",
              "  }\n",
              "\n",
              "  for (const file of files) {\n",
              "    const li = document.createElement('li');\n",
              "    li.append(span(file.name, {fontWeight: 'bold'}));\n",
              "    li.append(span(\n",
              "        `(${file.type || 'n/a'}) - ${file.size} bytes, ` +\n",
              "        `last modified: ${\n",
              "            file.lastModifiedDate ? file.lastModifiedDate.toLocaleDateString() :\n",
              "                                    'n/a'} - `));\n",
              "    const percent = span('0% done');\n",
              "    li.appendChild(percent);\n",
              "\n",
              "    outputElement.appendChild(li);\n",
              "\n",
              "    const fileDataPromise = new Promise((resolve) => {\n",
              "      const reader = new FileReader();\n",
              "      reader.onload = (e) => {\n",
              "        resolve(e.target.result);\n",
              "      };\n",
              "      reader.readAsArrayBuffer(file);\n",
              "    });\n",
              "    // Wait for the data to be ready.\n",
              "    let fileData = yield {\n",
              "      promise: fileDataPromise,\n",
              "      response: {\n",
              "        action: 'continue',\n",
              "      }\n",
              "    };\n",
              "\n",
              "    // Use a chunked sending to avoid message size limits. See b/62115660.\n",
              "    let position = 0;\n",
              "    do {\n",
              "      const length = Math.min(fileData.byteLength - position, MAX_PAYLOAD_SIZE);\n",
              "      const chunk = new Uint8Array(fileData, position, length);\n",
              "      position += length;\n",
              "\n",
              "      const base64 = btoa(String.fromCharCode.apply(null, chunk));\n",
              "      yield {\n",
              "        response: {\n",
              "          action: 'append',\n",
              "          file: file.name,\n",
              "          data: base64,\n",
              "        },\n",
              "      };\n",
              "\n",
              "      let percentDone = fileData.byteLength === 0 ?\n",
              "          100 :\n",
              "          Math.round((position / fileData.byteLength) * 100);\n",
              "      percent.textContent = `${percentDone}% done`;\n",
              "\n",
              "    } while (position < fileData.byteLength);\n",
              "  }\n",
              "\n",
              "  // All done.\n",
              "  yield {\n",
              "    response: {\n",
              "      action: 'complete',\n",
              "    }\n",
              "  };\n",
              "}\n",
              "\n",
              "scope.google = scope.google || {};\n",
              "scope.google.colab = scope.google.colab || {};\n",
              "scope.google.colab._files = {\n",
              "  _uploadFiles,\n",
              "  _uploadFilesContinue,\n",
              "};\n",
              "})(self);\n",
              "</script> "
            ]
          },
          "metadata": {}
        },
        {
          "output_type": "stream",
          "name": "stdout",
          "text": [
            "Saving Health_Sleep_Statistics.csv to Health_Sleep_Statistics.csv\n"
          ]
        }
      ],
      "source": [
        "from google.colab import files\n",
        "uploaded = files.upload()"
      ]
    },
    {
      "cell_type": "markdown",
      "source": [
        "# **2. Make dataframe from the imported file**"
      ],
      "metadata": {
        "id": "Uliq10EgSP-k"
      }
    },
    {
      "cell_type": "code",
      "source": [
        "import pandas\n",
        "\n",
        "dat = pandas.read_csv('Health_Sleep_Statistics.csv')\n",
        "df_dat = pandas.DataFrame(dat)\n",
        "print(df_dat)"
      ],
      "metadata": {
        "colab": {
          "base_uri": "https://localhost:8080/"
        },
        "id": "Dk0VGx2wSFr9",
        "outputId": "e9a55411-c603-473e-890c-90d19977b923"
      },
      "execution_count": 3,
      "outputs": [
        {
          "output_type": "stream",
          "name": "stdout",
          "text": [
            "    User ID  Age Gender  Sleep Quality Bedtime Wake-up Time  Daily Steps  \\\n",
            "0         1   25      f              8   23:00        06:30         8000   \n",
            "1         2   34      m              7   00:30        07:00         5000   \n",
            "2         3   29      f              9   22:45        06:45         9000   \n",
            "3         4   41      m              5   01:00        06:30         4000   \n",
            "4         5   22      f              8   23:30        07:00        10000   \n",
            "..      ...  ...    ...            ...     ...          ...          ...   \n",
            "95       96   43      m              7   00:45        07:15         6500   \n",
            "96       97   33      f              8   23:15        06:15         8500   \n",
            "97       98   46      m              4   01:30        07:00         3000   \n",
            "98       99   25      f              9   22:15        06:45         9500   \n",
            "99      100   41      m              6   00:30        07:00         5000   \n",
            "\n",
            "    Calories Burned Physical Activity Level Dietary Habits Sleep Disorders  \\\n",
            "0              2500                  medium        healthy              no   \n",
            "1              2200                     low      unhealthy             yes   \n",
            "2              2700                    high        healthy              no   \n",
            "3              2100                     low      unhealthy             yes   \n",
            "4              2800                    high         medium              no   \n",
            "..              ...                     ...            ...             ...   \n",
            "95             2400                  medium         medium              no   \n",
            "96             2600                    high         medium              no   \n",
            "97             2000                     low      unhealthy             yes   \n",
            "98             2700                    high        healthy              no   \n",
            "99             2200                  medium      unhealthy              no   \n",
            "\n",
            "   Medication Usage  \n",
            "0                no  \n",
            "1               yes  \n",
            "2                no  \n",
            "3                no  \n",
            "4                no  \n",
            "..              ...  \n",
            "95               no  \n",
            "96               no  \n",
            "97              yes  \n",
            "98               no  \n",
            "99               no  \n",
            "\n",
            "[100 rows x 12 columns]\n"
          ]
        }
      ]
    },
    {
      "cell_type": "markdown",
      "source": [
        "# **3. Create dataframe from dictionary of lists**"
      ],
      "metadata": {
        "id": "3D_qqnRXThb8"
      }
    },
    {
      "cell_type": "code",
      "source": [
        "dat1 = {\n",
        "    \"User ID\":[1,2,3,4,5],\n",
        "    'Age':[25,34,29,41,22],\n",
        "    'Gender':['f','m','f','m','f'],\n",
        "    \"Sleep Quality\":[8,7,9,5,8],\n",
        "    \"Daily Steps\":[8000,5000,9000,4000,10000],\n",
        "    \"Calories Burned\":[2500,2200,2700,2100,2000],\n",
        "    \"Physical Activity Level\":['medium','low','high','low','high'],\n",
        "    \"Dietary Habits\":['healthy','unhealthy','healthy','unhealthy','medium'],\n",
        "    \"Sleep Disorders\":['no','yes','no','yes','no'],\n",
        "    \"Medication Usage\":['no','yes','no','no','no']\n",
        "    }\n",
        "df_dat1 = pandas.DataFrame(dat1)\n",
        "print(df_dat1)"
      ],
      "metadata": {
        "colab": {
          "base_uri": "https://localhost:8080/"
        },
        "id": "cj4GqMNBTxpK",
        "outputId": "3a04f364-2f2d-4a17-d1a0-fea5e80984f9"
      },
      "execution_count": 17,
      "outputs": [
        {
          "output_type": "stream",
          "name": "stdout",
          "text": [
            "   User ID  Age Gender  Sleep Quality  Daily Steps  Calories Burned  \\\n",
            "0        1   25      f              8         8000             2500   \n",
            "1        2   34      m              7         5000             2200   \n",
            "2        3   29      f              9         9000             2700   \n",
            "3        4   41      m              5         4000             2100   \n",
            "4        5   22      f              8        10000             2000   \n",
            "\n",
            "  Physical Activity Level Dietary Habits Sleep Disorders Medication Usage  \n",
            "0                  medium        healthy              no               no  \n",
            "1                     low      unhealthy             yes              yes  \n",
            "2                    high        healthy              no               no  \n",
            "3                     low      unhealthy             yes               no  \n",
            "4                    high         medium              no               no  \n"
          ]
        }
      ]
    },
    {
      "cell_type": "markdown",
      "source": [
        "# **4. Create list of dictionaries then place into dataframe**"
      ],
      "metadata": {
        "id": "1bYuxZ1WYAFS"
      }
    },
    {
      "cell_type": "code",
      "source": [
        "dat2 = [{\"User ID\": 1,'Age': 25,'Gender': 'f',\"Sleep Quality\": 8,\"Daily Steps\": 8000,\"Calories Burned\": 2500,\"Physical Activity Level\": 'medium',\"Dietary Habits\": 'healthy',\"Sleep Disorders\": 'no',\"Medication Usage\": 'no'},\n",
        "        {\"User ID\": 2,'Age': 34,'Gender': 'm',\"Sleep Quality\": 7,\"Daily Steps\": 5000,\"Calories Burned\": 2200,\"Physical Activity Level\": 'low',\"Dietary Habits\": 'unhealthy',\"Sleep Disorders\": 'yes',\"Medication Usage\": 'yes'},\n",
        "        {\"User ID\": 3,'Age': 29,'Gender': 'f',\"Sleep Quality\": 9,\"Daily Steps\": 9000,\"Calories Burned\": 2700,\"Physical Activity Level\": 'high',\"Dietary Habits\": 'healthy',\"Sleep Disorders\": 'no',\"Medication Usage\": 'no'},\n",
        "        {\"User ID\": 4,'Age': 41,'Gender': 'm',\"Sleep Quality\": 5,\"Daily Steps\": 4000,\"Calories Burned\": 2100,\"Physical Activity Level\": 'low',\"Dietary Habits\": 'unhealthy',\"Sleep Disorders\": 'yes',\"Medication Usage\": 'no'},\n",
        "        {\"User ID\": 5,'Age': 22,'Gender': 'f',\"Sleep Quality\": 8,\"Daily Steps\": 10000,\"Calories Burned\": 2000,\"Physical Activity Level\": 'high',\"Dietary Habits\": 'medium',\"Sleep Disorders\": 'yes',\"Medication Usage\": 'no'}]\n",
        "\n",
        "df_dat2 = pandas.DataFrame(dat2)\n",
        "print(df_dat2)"
      ],
      "metadata": {
        "colab": {
          "base_uri": "https://localhost:8080/"
        },
        "id": "cxrmfm0wYPPK",
        "outputId": "ad71f21f-66b3-49df-85e9-71b3a5111922"
      },
      "execution_count": 18,
      "outputs": [
        {
          "output_type": "stream",
          "name": "stdout",
          "text": [
            "   User ID  Age Gender  Sleep Quality  Daily Steps  Calories Burned  \\\n",
            "0        1   25      f              8         8000             2500   \n",
            "1        2   34      m              7         5000             2200   \n",
            "2        3   29      f              9         9000             2700   \n",
            "3        4   41      m              5         4000             2100   \n",
            "4        5   22      f              8        10000             2000   \n",
            "\n",
            "  Physical Activity Level Dietary Habits Sleep Disorders Medication Usage  \n",
            "0                  medium        healthy              no               no  \n",
            "1                     low      unhealthy             yes              yes  \n",
            "2                    high        healthy              no               no  \n",
            "3                     low      unhealthy             yes               no  \n",
            "4                    high         medium             yes               no  \n"
          ]
        }
      ]
    },
    {
      "cell_type": "markdown",
      "source": [
        "# **5. Selecting dataframe column**"
      ],
      "metadata": {
        "id": "1DkKBMgneza_"
      }
    },
    {
      "cell_type": "markdown",
      "source": [
        "Single column"
      ],
      "metadata": {
        "id": "g8IVBp4IfPJ5"
      }
    },
    {
      "cell_type": "code",
      "source": [
        "print(df_dat[\"User ID\"])"
      ],
      "metadata": {
        "colab": {
          "base_uri": "https://localhost:8080/"
        },
        "id": "U1anXBmnfHmv",
        "outputId": "22ffca3b-eead-411f-aadf-251837d69ca1"
      },
      "execution_count": 19,
      "outputs": [
        {
          "output_type": "stream",
          "name": "stdout",
          "text": [
            "0       1\n",
            "1       2\n",
            "2       3\n",
            "3       4\n",
            "4       5\n",
            "     ... \n",
            "95     96\n",
            "96     97\n",
            "97     98\n",
            "98     99\n",
            "99    100\n",
            "Name: User ID, Length: 100, dtype: int64\n"
          ]
        }
      ]
    },
    {
      "cell_type": "markdown",
      "source": [
        "Multiple columns"
      ],
      "metadata": {
        "id": "eNfYmMoxfS13"
      }
    },
    {
      "cell_type": "code",
      "source": [
        "print(df_dat[[\"User ID\",'Age','Gender',\"Sleep Quality\",\"Daily Steps\",\"Calories Burned\",\"Physical Activity Level\",\"Dietary Habits\",\"Sleep Disorders\",\"Medication Usage\"]])"
      ],
      "metadata": {
        "colab": {
          "base_uri": "https://localhost:8080/"
        },
        "id": "YenkGI_8fbsm",
        "outputId": "64216f6c-b719-4c4d-d98f-8fc16c093ae5"
      },
      "execution_count": 22,
      "outputs": [
        {
          "output_type": "stream",
          "name": "stdout",
          "text": [
            "    User ID  Age Gender  Sleep Quality  Daily Steps  Calories Burned  \\\n",
            "0         1   25      f              8         8000             2500   \n",
            "1         2   34      m              7         5000             2200   \n",
            "2         3   29      f              9         9000             2700   \n",
            "3         4   41      m              5         4000             2100   \n",
            "4         5   22      f              8        10000             2800   \n",
            "..      ...  ...    ...            ...          ...              ...   \n",
            "95       96   43      m              7         6500             2400   \n",
            "96       97   33      f              8         8500             2600   \n",
            "97       98   46      m              4         3000             2000   \n",
            "98       99   25      f              9         9500             2700   \n",
            "99      100   41      m              6         5000             2200   \n",
            "\n",
            "   Physical Activity Level Dietary Habits Sleep Disorders Medication Usage  \n",
            "0                   medium        healthy              no               no  \n",
            "1                      low      unhealthy             yes              yes  \n",
            "2                     high        healthy              no               no  \n",
            "3                      low      unhealthy             yes               no  \n",
            "4                     high         medium              no               no  \n",
            "..                     ...            ...             ...              ...  \n",
            "95                  medium         medium              no               no  \n",
            "96                    high         medium              no               no  \n",
            "97                     low      unhealthy             yes              yes  \n",
            "98                    high        healthy              no               no  \n",
            "99                  medium      unhealthy              no               no  \n",
            "\n",
            "[100 rows x 10 columns]\n"
          ]
        }
      ]
    },
    {
      "cell_type": "markdown",
      "source": [
        "# **6. Selecting dataframe rows**"
      ],
      "metadata": {
        "id": "EU3CqNIAdim0"
      }
    },
    {
      "cell_type": "markdown",
      "source": [
        "Single row"
      ],
      "metadata": {
        "id": "u8kAx-dQdwx3"
      }
    },
    {
      "cell_type": "code",
      "source": [
        "print(df_dat.loc[0])"
      ],
      "metadata": {
        "colab": {
          "base_uri": "https://localhost:8080/"
        },
        "id": "K2NNTts-drZX",
        "outputId": "b02b6cb9-f6f3-4af5-bda6-73fda5d6941c"
      },
      "execution_count": 12,
      "outputs": [
        {
          "output_type": "stream",
          "name": "stdout",
          "text": [
            "User ID                          1\n",
            "Age                             25\n",
            "Gender                           f\n",
            "Sleep Quality                    8\n",
            "Bedtime                      23:00\n",
            "Wake-up Time                 06:30\n",
            "Daily Steps                   8000\n",
            "Calories Burned               2500\n",
            "Physical Activity Level     medium\n",
            "Dietary Habits             healthy\n",
            "Sleep Disorders                 no\n",
            "Medication Usage                no\n",
            "Name: 0, dtype: object\n"
          ]
        }
      ]
    },
    {
      "cell_type": "markdown",
      "source": [
        "Multiple rows"
      ],
      "metadata": {
        "id": "LyBj_-PoeEhn"
      }
    },
    {
      "cell_type": "code",
      "source": [
        "print(df_dat.loc[0:4])"
      ],
      "metadata": {
        "colab": {
          "base_uri": "https://localhost:8080/"
        },
        "id": "X1sE_iCzeGP2",
        "outputId": "177d5d9b-fd4e-4acd-9447-68d297b86f44"
      },
      "execution_count": 13,
      "outputs": [
        {
          "output_type": "stream",
          "name": "stdout",
          "text": [
            "   User ID  Age Gender  Sleep Quality Bedtime Wake-up Time  Daily Steps  \\\n",
            "0        1   25      f              8   23:00        06:30         8000   \n",
            "1        2   34      m              7   00:30        07:00         5000   \n",
            "2        3   29      f              9   22:45        06:45         9000   \n",
            "3        4   41      m              5   01:00        06:30         4000   \n",
            "4        5   22      f              8   23:30        07:00        10000   \n",
            "\n",
            "   Calories Burned Physical Activity Level Dietary Habits Sleep Disorders  \\\n",
            "0             2500                  medium        healthy              no   \n",
            "1             2200                     low      unhealthy             yes   \n",
            "2             2700                    high        healthy              no   \n",
            "3             2100                     low      unhealthy             yes   \n",
            "4             2800                    high         medium              no   \n",
            "\n",
            "  Medication Usage  \n",
            "0               no  \n",
            "1              yes  \n",
            "2               no  \n",
            "3               no  \n",
            "4               no  \n"
          ]
        }
      ]
    }
  ]
}