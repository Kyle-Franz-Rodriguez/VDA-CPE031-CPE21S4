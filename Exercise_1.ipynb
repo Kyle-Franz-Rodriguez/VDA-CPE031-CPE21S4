{
  "nbformat": 4,
  "nbformat_minor": 0,
  "metadata": {
    "colab": {
      "provenance": [],
      "authorship_tag": "ABX9TyN6m90BPfZIFt7KByAm82yx",
      "include_colab_link": true
    },
    "kernelspec": {
      "name": "python3",
      "display_name": "Python 3"
    },
    "language_info": {
      "name": "python"
    }
  },
  "cells": [
    {
      "cell_type": "markdown",
      "metadata": {
        "id": "view-in-github",
        "colab_type": "text"
      },
      "source": [
        "<a href=\"https://colab.research.google.com/github/Kyle-Franz-Rodriguez/VDA-CPE031-CPE21S4/blob/main/Exercise_1.ipynb\" target=\"_parent\"><img src=\"https://colab.research.google.com/assets/colab-badge.svg\" alt=\"Open In Colab\"/></a>"
      ]
    },
    {
      "cell_type": "markdown",
      "source": [
        "# **1. Variable and Data Types**"
      ],
      "metadata": {
        "id": "8OWuDyyr1xIR"
      }
    },
    {
      "cell_type": "markdown",
      "source": [
        "**Python uses five standard data types:**"
      ],
      "metadata": {
        "id": "LiPyHcpP4LrB"
      }
    },
    {
      "cell_type": "markdown",
      "source": [
        "Numbers"
      ],
      "metadata": {
        "id": "od67z5R22w8J"
      }
    },
    {
      "cell_type": "code",
      "source": [
        "varNum = 123\n",
        "pi = 3.14159"
      ],
      "metadata": {
        "id": "H6AFSLWS20A6"
      },
      "execution_count": null,
      "outputs": []
    },
    {
      "cell_type": "markdown",
      "source": [
        "Strings"
      ],
      "metadata": {
        "id": "u4xTsd_I28qx"
      }
    },
    {
      "cell_type": "code",
      "source": [
        "varString = \"Hello World!\"\n",
        "varText = \"This is a string\""
      ],
      "metadata": {
        "id": "Ggpm2lyB3BCL"
      },
      "execution_count": null,
      "outputs": []
    },
    {
      "cell_type": "markdown",
      "source": [
        "Lists"
      ],
      "metadata": {
        "id": "CYNHhFF53IQU"
      }
    },
    {
      "cell_type": "code",
      "source": [
        "varList = [\"abc\", 123]"
      ],
      "metadata": {
        "id": "lYBxT_NO3JdI"
      },
      "execution_count": null,
      "outputs": []
    },
    {
      "cell_type": "markdown",
      "source": [
        "Tuples"
      ],
      "metadata": {
        "id": "-mfgYnR_3Rzs"
      }
    },
    {
      "cell_type": "code",
      "source": [
        "varTuple = 'abc', 123, \"HELLO\""
      ],
      "metadata": {
        "id": "TNCl4-al3SwQ"
      },
      "execution_count": null,
      "outputs": []
    },
    {
      "cell_type": "markdown",
      "source": [
        "Dictionaries"
      ],
      "metadata": {
        "id": "UuzMD5Kq3X9x"
      }
    },
    {
      "cell_type": "code",
      "source": [
        "var = 3\n",
        "varDict = {'first':1, '2':'2nd', 3:var}"
      ],
      "metadata": {
        "id": "9xnG-ZqM3aCo"
      },
      "execution_count": null,
      "outputs": []
    },
    {
      "cell_type": "code",
      "source": [
        "varDict = []\n",
        "varDict['first'] = 1\n",
        "varDict['2'] = '2nd'\n",
        "varDict[3] = var\n"
      ],
      "metadata": {
        "id": "XHZW_JOm3q2i"
      },
      "execution_count": null,
      "outputs": []
    },
    {
      "cell_type": "markdown",
      "source": [
        "# **2. Arithmethic**"
      ],
      "metadata": {
        "id": "YjsiOMm14Tch"
      }
    },
    {
      "cell_type": "markdown",
      "source": [
        "Addition\n",
        "\n",
        "```\n",
        "a = 5 + 3\n",
        "```\n",
        "> 8\n"
      ],
      "metadata": {
        "id": "y3zsQwTO4aJo"
      }
    },
    {
      "cell_type": "markdown",
      "source": [
        "Subtraction\n",
        "\n",
        "```\n",
        "a = 5 - 3\n",
        "```\n",
        "> 2\n"
      ],
      "metadata": {
        "id": "vp_MU0Wz4dit"
      }
    },
    {
      "cell_type": "markdown",
      "source": [
        "Multiplication\n",
        "\n",
        "```\n",
        "a = 5 * 3\n",
        "```\n",
        "> 15\n"
      ],
      "metadata": {
        "id": "LxfqQE-P4vHl"
      }
    },
    {
      "cell_type": "markdown",
      "source": [
        "Exponent\n",
        "\n",
        "```\n",
        "a = 5 ** 3\n",
        "```\n",
        "> 125\n"
      ],
      "metadata": {
        "id": "BP2Y7RXJ4zHx"
      }
    },
    {
      "cell_type": "markdown",
      "source": [
        "Division\n",
        "\n",
        "```\n",
        "a = 5 / 3\n",
        "```\n",
        "> 1.666666666666667\n",
        "\n",
        "\n",
        "```\n",
        "a = 5 % 3\n",
        "```\n",
        "> 2\n",
        "\n",
        "\n",
        "```\n",
        "a = 5 // 3\n",
        "```\n",
        "> 1\n",
        "\n",
        "\n"
      ],
      "metadata": {
        "id": "yDHeZVmt49No"
      }
    },
    {
      "cell_type": "markdown",
      "source": [
        "Increment/Decrement\n",
        "```\n",
        "a = 5\n",
        "a +- 1\n",
        "```\n",
        "> 6\n"
      ],
      "metadata": {
        "id": "2wQlVSh057Ak"
      }
    },
    {
      "cell_type": "markdown",
      "source": [
        "Decrement\n",
        "\n",
        "```\n",
        "a = 5\n",
        "a -= 1\n",
        "```\n",
        "> 4\n"
      ],
      "metadata": {
        "id": "oRqfTatO6OM9"
      }
    },
    {
      "cell_type": "markdown",
      "source": [
        "String Concatenation\n",
        "\n",
        "```\n",
        "a = 'Hello' + 'world!\n",
        "```\n",
        "> Hello World!\n"
      ],
      "metadata": {
        "id": "N2KHVqZh6gcB"
      }
    },
    {
      "cell_type": "markdown",
      "source": [
        "\n",
        "Complex Expressions\n",
        "```\n",
        "a = 3 + 5 + 6 * 2 / 4\n",
        "```\n",
        "> 5.0\n"
      ],
      "metadata": {
        "id": "rSxwdJjU6ggJ"
      }
    },
    {
      "cell_type": "markdown",
      "source": [
        "# **3. Control Statements and Data Structures**"
      ],
      "metadata": {
        "id": "_baMZrf56gjp"
      }
    },
    {
      "cell_type": "markdown",
      "source": [
        "Boolean Conditions\n"
      ],
      "metadata": {
        "id": "KOKhNhCz7WX6"
      }
    },
    {
      "cell_type": "code",
      "source": [
        "x = True\n",
        "\n",
        "if x:\n",
        "  print(\"var x is True\")\n",
        "else:\n",
        "  print(\"Var x is False\")"
      ],
      "metadata": {
        "colab": {
          "base_uri": "https://localhost:8080/"
        },
        "id": "S3T79Ni18VsT",
        "outputId": "eea04e8b-9e85-4270-a4d6-4ed8bca149e4"
      },
      "execution_count": 2,
      "outputs": [
        {
          "output_type": "stream",
          "name": "stdout",
          "text": [
            "var x is True\n"
          ]
        }
      ]
    },
    {
      "cell_type": "markdown",
      "source": [
        "String Conditions\n"
      ],
      "metadata": {
        "id": "xttXW6_r7n8J"
      }
    },
    {
      "cell_type": "code",
      "source": [
        "x = \"Hello World\"\n",
        "\n",
        "if x == \"Hello World\":\n",
        "  print(\"var x is Hello World!\")\n",
        "else:\n",
        "  print(\"var x is not Hello World!\")"
      ],
      "metadata": {
        "colab": {
          "base_uri": "https://localhost:8080/"
        },
        "id": "r7pDJkiP8bTA",
        "outputId": "880653ad-ce31-44e7-c30b-1fd6a9d16fca"
      },
      "execution_count": 3,
      "outputs": [
        {
          "output_type": "stream",
          "name": "stdout",
          "text": [
            "var x is Hello World!\n"
          ]
        }
      ]
    },
    {
      "cell_type": "markdown",
      "source": [
        "Numerical Conditions"
      ],
      "metadata": {
        "id": "6SRu-eV18coK"
      }
    },
    {
      "cell_type": "code",
      "source": [
        "x = 10\n",
        "\n",
        "if x == '10':\n",
        "  print(\"var x is a string\")\n",
        "elif x == 10:\n",
        "  print(\"var x is an integer\")\n",
        "else:\n",
        "  print(\"var x is none of the above\")"
      ],
      "metadata": {
        "colab": {
          "base_uri": "https://localhost:8080/"
        },
        "id": "tJiq8RpV8flD",
        "outputId": "18a91050-83fe-4429-eb8c-480e0350f4cc"
      },
      "execution_count": 4,
      "outputs": [
        {
          "output_type": "stream",
          "name": "stdout",
          "text": [
            "var x is an integer\n"
          ]
        }
      ]
    },
    {
      "cell_type": "markdown",
      "source": [
        "# **4. Loops**"
      ],
      "metadata": {
        "id": "Y0mbtfYy9OT5"
      }
    },
    {
      "cell_type": "markdown",
      "source": [
        "for Loops"
      ],
      "metadata": {
        "id": "CeHGTiiJ9Sk6"
      }
    },
    {
      "cell_type": "code",
      "source": [
        "for var in range(0, 5, 2):\n",
        "  print(var)"
      ],
      "metadata": {
        "colab": {
          "base_uri": "https://localhost:8080/"
        },
        "id": "v9y6mEZe9buq",
        "outputId": "3dc971c5-0c90-4cc7-a1a9-434cabcc07c3"
      },
      "execution_count": 6,
      "outputs": [
        {
          "output_type": "stream",
          "name": "stdout",
          "text": [
            "0\n",
            "2\n",
            "4\n"
          ]
        }
      ]
    },
    {
      "cell_type": "markdown",
      "source": [
        "While Loops"
      ],
      "metadata": {
        "id": "qCIUnoKT9kUB"
      }
    },
    {
      "cell_type": "code",
      "source": [
        "var = 0\n",
        "while var < 5:\n",
        "  print(var)\n",
        "  var +=2"
      ],
      "metadata": {
        "colab": {
          "base_uri": "https://localhost:8080/"
        },
        "id": "b4OAYq_b9lpi",
        "outputId": "27b64b9c-0526-4cd4-e5ef-49aaa3d2cf24"
      },
      "execution_count": 7,
      "outputs": [
        {
          "output_type": "stream",
          "name": "stdout",
          "text": [
            "0\n",
            "2\n",
            "4\n"
          ]
        }
      ]
    },
    {
      "cell_type": "markdown",
      "source": [
        "Nested Loops"
      ],
      "metadata": {
        "id": "sQBxG9jv9sbS"
      }
    },
    {
      "cell_type": "code",
      "source": [
        "x = 0\n",
        "while x < 5:\n",
        "  for y in range(0, x):\n",
        "    print(y, end='')\n",
        "  x += 1\n",
        "  print()"
      ],
      "metadata": {
        "colab": {
          "base_uri": "https://localhost:8080/"
        },
        "id": "UtT1RX3R9ujK",
        "outputId": "5780f0fd-c689-4e66-f3fa-7d2f1e182ae7"
      },
      "execution_count": 8,
      "outputs": [
        {
          "output_type": "stream",
          "name": "stdout",
          "text": [
            "\n",
            "0\n",
            "01\n",
            "012\n",
            "0123\n"
          ]
        }
      ]
    },
    {
      "cell_type": "markdown",
      "source": [
        "*Note: The loop declaration ends with a colon (:) while its contents inside are indented"
      ],
      "metadata": {
        "id": "ofzf1iJ0-PWC"
      }
    },
    {
      "cell_type": "markdown",
      "source": [
        "# **5. List**"
      ],
      "metadata": {
        "id": "apIW326B_Vma"
      }
    },
    {
      "cell_type": "markdown",
      "source": [
        "Lists can contain a number of values comprised of different data types"
      ],
      "metadata": {
        "id": "e92Hb3Cc_bQi"
      }
    },
    {
      "cell_type": "code",
      "source": [
        "pi = 3.14159\n",
        "varList= [1,2,'A','B','Hello!', pi]\n",
        "print(varList[0])"
      ],
      "metadata": {
        "colab": {
          "base_uri": "https://localhost:8080/"
        },
        "id": "o0IphsAi_36a",
        "outputId": "bb5c551e-6d7c-4d08-9242-d3f0d6c59a28"
      },
      "execution_count": 56,
      "outputs": [
        {
          "output_type": "stream",
          "name": "stdout",
          "text": [
            "1\n"
          ]
        }
      ]
    },
    {
      "cell_type": "code",
      "source": [
        "print(varList[4])"
      ],
      "metadata": {
        "colab": {
          "base_uri": "https://localhost:8080/"
        },
        "id": "PgefEQfRAGlu",
        "outputId": "b6793eca-b88c-43d2-b506-6ea23a0c0422"
      },
      "execution_count": 57,
      "outputs": [
        {
          "output_type": "stream",
          "name": "stdout",
          "text": [
            "Hello!\n"
          ]
        }
      ]
    },
    {
      "cell_type": "code",
      "source": [
        "varList.append('World!')\n",
        "print(varList[6])"
      ],
      "metadata": {
        "colab": {
          "base_uri": "https://localhost:8080/"
        },
        "id": "jdx6_EilAPfe",
        "outputId": "2824ffb2-4eb7-40a0-9a16-a1c857de6df4"
      },
      "execution_count": 58,
      "outputs": [
        {
          "output_type": "stream",
          "name": "stdout",
          "text": [
            "World!\n"
          ]
        }
      ]
    },
    {
      "cell_type": "code",
      "source": [
        "len(varList)"
      ],
      "metadata": {
        "colab": {
          "base_uri": "https://localhost:8080/"
        },
        "id": "TFc2ugCRAga6",
        "outputId": "7e05f34e-dadb-4915-c13e-5f057e4b5444"
      },
      "execution_count": 59,
      "outputs": [
        {
          "output_type": "execute_result",
          "data": {
            "text/plain": [
              "7"
            ]
          },
          "metadata": {},
          "execution_count": 59
        }
      ]
    },
    {
      "cell_type": "code",
      "source": [
        "print(varList[5])"
      ],
      "metadata": {
        "colab": {
          "base_uri": "https://localhost:8080/"
        },
        "id": "O9o61mZVAnSa",
        "outputId": "a4af6cdb-d146-436a-fc74-f83aa95b462b"
      },
      "execution_count": 60,
      "outputs": [
        {
          "output_type": "stream",
          "name": "stdout",
          "text": [
            "3.14159\n"
          ]
        }
      ]
    },
    {
      "cell_type": "code",
      "source": [
        "varList.remove(pi)\n",
        "print(varList[5])"
      ],
      "metadata": {
        "colab": {
          "base_uri": "https://localhost:8080/"
        },
        "id": "Zc4cYacfECpz",
        "outputId": "a8ff6f8f-98ae-4390-ce89-7881e5b0a45d"
      },
      "execution_count": 61,
      "outputs": [
        {
          "output_type": "stream",
          "name": "stdout",
          "text": [
            "World!\n"
          ]
        }
      ]
    },
    {
      "cell_type": "markdown",
      "source": [
        "# **6. Dictionaries**"
      ],
      "metadata": {
        "id": "50Saqum6Bk6c"
      }
    },
    {
      "cell_type": "code",
      "source": [
        "var = \"Hello World!\"\n",
        "varDict = {'first':123, 2:'abc', '3':var, 4:['lista', 'listb']}\n",
        "print(varDict['first'])"
      ],
      "metadata": {
        "colab": {
          "base_uri": "https://localhost:8080/"
        },
        "id": "deILGScKBl8C",
        "outputId": "1415c731-5dee-4162-f53b-f8f06e26069e"
      },
      "execution_count": 62,
      "outputs": [
        {
          "output_type": "stream",
          "name": "stdout",
          "text": [
            "123\n"
          ]
        }
      ]
    },
    {
      "cell_type": "code",
      "source": [
        "print(varDict[2])"
      ],
      "metadata": {
        "colab": {
          "base_uri": "https://localhost:8080/"
        },
        "id": "ZIDOsBkvCO2K",
        "outputId": "fdc8aad4-2b08-4342-b789-fa958afd1d24"
      },
      "execution_count": 63,
      "outputs": [
        {
          "output_type": "stream",
          "name": "stdout",
          "text": [
            "abc\n"
          ]
        }
      ]
    },
    {
      "cell_type": "code",
      "source": [
        "print(varDict['3'])"
      ],
      "metadata": {
        "colab": {
          "base_uri": "https://localhost:8080/"
        },
        "id": "f9_LjExwCSoK",
        "outputId": "d35bfc86-bcb0-4a60-f502-0fae01f8ed6e"
      },
      "execution_count": 64,
      "outputs": [
        {
          "output_type": "stream",
          "name": "stdout",
          "text": [
            "Hello World!\n"
          ]
        }
      ]
    },
    {
      "cell_type": "code",
      "source": [
        "print(varDict[4])"
      ],
      "metadata": {
        "colab": {
          "base_uri": "https://localhost:8080/"
        },
        "id": "U5xNfoU5CYPj",
        "outputId": "8eb4a256-af9c-4739-dea9-c4bb3df045dc"
      },
      "execution_count": 65,
      "outputs": [
        {
          "output_type": "stream",
          "name": "stdout",
          "text": [
            "['lista', 'listb']\n"
          ]
        }
      ]
    },
    {
      "cell_type": "code",
      "source": [
        "print(varDict[4][1])"
      ],
      "metadata": {
        "colab": {
          "base_uri": "https://localhost:8080/"
        },
        "id": "IeUET210Ceki",
        "outputId": "de151229-0877-455e-cb4b-1f20c1cceddc"
      },
      "execution_count": 66,
      "outputs": [
        {
          "output_type": "stream",
          "name": "stdout",
          "text": [
            "listb\n"
          ]
        }
      ]
    },
    {
      "cell_type": "code",
      "source": [
        "len(varDict)"
      ],
      "metadata": {
        "colab": {
          "base_uri": "https://localhost:8080/"
        },
        "id": "74xe758sCoVq",
        "outputId": "fe1aa7b7-2fb3-434f-a5e5-b5786d5f3521"
      },
      "execution_count": 67,
      "outputs": [
        {
          "output_type": "execute_result",
          "data": {
            "text/plain": [
              "4"
            ]
          },
          "metadata": {},
          "execution_count": 67
        }
      ]
    },
    {
      "cell_type": "markdown",
      "source": [
        "# **7. List Generators**"
      ],
      "metadata": {
        "id": "H0h5fWNhEAm6"
      }
    },
    {
      "cell_type": "markdown",
      "source": [
        "Generators can be used to build list in the memory as objects"
      ],
      "metadata": {
        "id": "Hm8WB_37ERDS"
      }
    },
    {
      "cell_type": "code",
      "source": [
        "def gen_num_up_to(n):\n",
        "  num = 0\n",
        "  while num < n:\n",
        "    yield num\n",
        "    num +=1"
      ],
      "metadata": {
        "id": "qj_5pSVUEVcr"
      },
      "execution_count": 71,
      "outputs": []
    },
    {
      "cell_type": "code",
      "source": [
        "gen_num_up_to(5)"
      ],
      "metadata": {
        "colab": {
          "base_uri": "https://localhost:8080/"
        },
        "id": "uhgISVw1EhwC",
        "outputId": "8f29122d-50d2-4d55-a716-14ad1ad69660"
      },
      "execution_count": 72,
      "outputs": [
        {
          "output_type": "execute_result",
          "data": {
            "text/plain": [
              "<generator object gen_num_up_to at 0x7d657add7d80>"
            ]
          },
          "metadata": {},
          "execution_count": 72
        }
      ]
    },
    {
      "cell_type": "markdown",
      "source": [
        "*Note: This creates an object"
      ],
      "metadata": {
        "id": "8ITCTE76Es5f"
      }
    },
    {
      "cell_type": "code",
      "source": [
        "varList = gen_num_up_to(5)\n",
        "print([var for var in varList])"
      ],
      "metadata": {
        "colab": {
          "base_uri": "https://localhost:8080/"
        },
        "id": "XB9MJOkEEr0z",
        "outputId": "2e2af598-63b9-4798-dbb7-dfb430f0d0c5"
      },
      "execution_count": 73,
      "outputs": [
        {
          "output_type": "stream",
          "name": "stdout",
          "text": [
            "[0, 1, 2, 3, 4]\n"
          ]
        }
      ]
    },
    {
      "cell_type": "code",
      "source": [
        "def gen_num_up_to(n):\n",
        "  num = 0\n",
        "  while num < n:\n",
        "    yield num\n",
        "    num += 2\n",
        "\n",
        "varList = gen_num_up_to(5)\n",
        "print([var for var in varList])"
      ],
      "metadata": {
        "colab": {
          "base_uri": "https://localhost:8080/"
        },
        "id": "5fK3NwhTFCAB",
        "outputId": "4360345b-3af1-4482-f3e4-4fe27792c29b"
      },
      "execution_count": 76,
      "outputs": [
        {
          "output_type": "stream",
          "name": "stdout",
          "text": [
            "[0, 2, 4]\n"
          ]
        }
      ]
    },
    {
      "cell_type": "code",
      "source": [
        "varList = range(0,5,2)\n",
        "print([var for var in varList])"
      ],
      "metadata": {
        "colab": {
          "base_uri": "https://localhost:8080/"
        },
        "id": "VfMRQxxxFUii",
        "outputId": "6f703199-404d-461c-915d-5d09f9b8a91d"
      },
      "execution_count": 78,
      "outputs": [
        {
          "output_type": "stream",
          "name": "stdout",
          "text": [
            "[0, 2, 4]\n"
          ]
        }
      ]
    },
    {
      "cell_type": "markdown",
      "source": [
        "*Note: Python's built in range function range([start], stop, [step})"
      ],
      "metadata": {
        "id": "4nabZECiF1GM"
      }
    },
    {
      "cell_type": "markdown",
      "source": [
        "# **8. Slicing**"
      ],
      "metadata": {
        "id": "yMuq4njWGrhY"
      }
    },
    {
      "cell_type": "code",
      "source": [
        "varList = [1,2,3,4,5,6,7,8,9,10]\n",
        "print(varList[:5])"
      ],
      "metadata": {
        "colab": {
          "base_uri": "https://localhost:8080/"
        },
        "id": "DukrLpXVGxcL",
        "outputId": "cac2c989-b8b6-4ea1-e44c-b4d23378c6ce"
      },
      "execution_count": 80,
      "outputs": [
        {
          "output_type": "stream",
          "name": "stdout",
          "text": [
            "[1, 2, 3, 4, 5]\n"
          ]
        }
      ]
    },
    {
      "cell_type": "code",
      "source": [
        "print(varList[5:])"
      ],
      "metadata": {
        "colab": {
          "base_uri": "https://localhost:8080/"
        },
        "id": "mUJtXrpYG5Ws",
        "outputId": "e038b9b0-91c5-446e-e8d1-155007c5e694"
      },
      "execution_count": 81,
      "outputs": [
        {
          "output_type": "stream",
          "name": "stdout",
          "text": [
            "[6, 7, 8, 9, 10]\n"
          ]
        }
      ]
    },
    {
      "cell_type": "code",
      "source": [
        "print(varList[:-2])"
      ],
      "metadata": {
        "colab": {
          "base_uri": "https://localhost:8080/"
        },
        "id": "Kvf-ZvSuG8Py",
        "outputId": "5228905e-8bcb-49c0-b52b-abb8de1b2b9b"
      },
      "execution_count": 82,
      "outputs": [
        {
          "output_type": "stream",
          "name": "stdout",
          "text": [
            "[1, 2, 3, 4, 5, 6, 7, 8]\n"
          ]
        }
      ]
    },
    {
      "cell_type": "code",
      "source": [
        "print(varList[-2:])"
      ],
      "metadata": {
        "colab": {
          "base_uri": "https://localhost:8080/"
        },
        "id": "zE4CNJFrHEra",
        "outputId": "0f2449ae-7220-4d9a-ffbf-27a62ffe34c9"
      },
      "execution_count": 83,
      "outputs": [
        {
          "output_type": "stream",
          "name": "stdout",
          "text": [
            "[9, 10]\n"
          ]
        }
      ]
    },
    {
      "cell_type": "code",
      "source": [
        "print(varList[2:-2])"
      ],
      "metadata": {
        "colab": {
          "base_uri": "https://localhost:8080/"
        },
        "id": "Nzn3uh4aHIeU",
        "outputId": "468eea41-032a-4fea-c894-b249e643e981"
      },
      "execution_count": 84,
      "outputs": [
        {
          "output_type": "stream",
          "name": "stdout",
          "text": [
            "[3, 4, 5, 6, 7, 8]\n"
          ]
        }
      ]
    },
    {
      "cell_type": "code",
      "source": [
        "print(varList[2:8:2])"
      ],
      "metadata": {
        "colab": {
          "base_uri": "https://localhost:8080/"
        },
        "id": "9apqr3oAHMIj",
        "outputId": "a4fac181-9c57-49a5-efd2-68df35e768b3"
      },
      "execution_count": 85,
      "outputs": [
        {
          "output_type": "stream",
          "name": "stdout",
          "text": [
            "[3, 5, 7]\n"
          ]
        }
      ]
    },
    {
      "cell_type": "markdown",
      "source": [
        "*Note:  List(start:)\n",
        "        List(:end)\n",
        "        List(start:end)\n",
        "        List(start:end:stop)"
      ],
      "metadata": {
        "id": "RVzutM7lHWQ2"
      }
    },
    {
      "cell_type": "markdown",
      "source": [
        "# **9. Functions**"
      ],
      "metadata": {
        "id": "2sKYKUMUIKBM"
      }
    },
    {
      "cell_type": "markdown",
      "source": [
        "Python functions use the following notation:"
      ],
      "metadata": {
        "id": "ZRtxdkzCINvD"
      }
    },
    {
      "cell_type": "markdown",
      "source": [
        "def function_name:\n",
        "  commands"
      ],
      "metadata": {
        "id": "NvDbMjMxITyM"
      }
    },
    {
      "cell_type": "code",
      "source": [
        "def remainder(n,m):\n",
        "  while True:\n",
        "    if n - m < 0:\n",
        "      return n\n",
        "    else:\n",
        "      n = n - m\n",
        "\n",
        "remainder(10,4)"
      ],
      "metadata": {
        "colab": {
          "base_uri": "https://localhost:8080/"
        },
        "id": "vEsQRm_jIfnz",
        "outputId": "ae251995-08c3-4001-fdcd-c2d89f2773f0"
      },
      "execution_count": 87,
      "outputs": [
        {
          "output_type": "execute_result",
          "data": {
            "text/plain": [
              "2"
            ]
          },
          "metadata": {},
          "execution_count": 87
        }
      ]
    },
    {
      "cell_type": "markdown",
      "source": [
        "*Note: Functions are defined with the keyword def before the function_name. Similar to loops, the function definition ends with a colon (:) while its contents inside are indented."
      ],
      "metadata": {
        "id": "SrhX0YrcJGNO"
      }
    }
  ]
}